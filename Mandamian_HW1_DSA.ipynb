{
 "cells": [
  {
   "cell_type": "markdown",
   "metadata": {},
   "source": []
  },
  {
   "cell_type": "code",
   "execution_count": 12,
   "metadata": {},
   "outputs": [],
   "source": [
    "class BankAccount:\n",
    "    def __init__(self, account_name, balance=1000):\n",
    "        # initialize the variables\n",
    "        \n",
    "        self.account_name = account_name\n",
    "        self.balance = balance\n",
    "\n",
    "    def deposit(self, amount):\n",
    "        # think of the conditions that are required\n",
    "        # this method would allow the bank account holder\n",
    "        # to deposit an amount\n",
    "        # the balance must be updated based on the amount\n",
    "        # that was inputted by the user.\n",
    "\n",
    "        '''\n",
    "        deposits the money into the balance, only accepts positive float\n",
    "        '''\n",
    "        try:\n",
    "            amount = float(amount)\n",
    "            if amount > 100:\n",
    "                self.balance += amount\n",
    "                print(f'Successfully deposited: ${amount}')\n",
    "\n",
    "            else:\n",
    "                print(\"Enter MONEY!\")\n",
    "        \n",
    "        except ValueError as e:\n",
    "            print(f'Enter MONEY!: {e}')\n",
    "\n",
    "    def withdraw(self, amount):\n",
    "        # think of the conditions that are required for a\n",
    "        # bank account holder to withdraw. Their account\n",
    "        # must have a balance that is greater or equal to\n",
    "        # the current amount.\n",
    "        # The value of the amount withdrawn must be deducted to\n",
    "        # the current balance value.\n",
    "        # the user cannot withdraw 0 or negative values.\n",
    "\n",
    "        '''\n",
    "        Withdraws the amount from the balance while making sure that the\n",
    "        balance is left with at least $100 as the initial deposit\n",
    "        '''\n",
    "        try:\n",
    "            amount = float(amount)\n",
    "            if amount > 0 and self.balance - amount >= 100:\n",
    "                self.balance -= amount\n",
    "                print(f'Successfully withdrawn: ${amount}')\n",
    "            \n",
    "            elif self.balance - amount < 100:\n",
    "                print(\"You are withdrawing too much invalid request...\")\n",
    "\n",
    "            else:\n",
    "                print(\"Enter a positive amount...\")\n",
    "        \n",
    "        except ValueError as e:\n",
    "            print(f'Enter MONEY!: {e}')\n",
    "\n",
    "    def check_balance(self):\n",
    "        # this method just returns the details of the\n",
    "        # bank account holder like the current balance and the name.\n",
    "\n",
    "        print(f\"{self.account_name}'s current balance: ${self.balance}\")"
   ]
  },
  {
   "cell_type": "code",
   "execution_count": 13,
   "metadata": {},
   "outputs": [
    {
     "name": "stdout",
     "output_type": "stream",
     "text": [
      "Successfully deposited: $500.0\n",
      "Successfully withdrawn: $1000.0\n",
      "You are withdrawing too much invalid request...\n",
      "rogelio's current balance: $500.0\n"
     ]
    }
   ],
   "source": [
    "bank = BankAccount('rogelio')\n",
    "bank.deposit(500)\n",
    "bank.withdraw(1000) \n",
    "bank.withdraw(500)\n",
    "bank.check_balance()"
   ]
  },
  {
   "cell_type": "code",
   "execution_count": null,
   "metadata": {},
   "outputs": [],
   "source": []
  }
 ],
 "metadata": {
  "kernelspec": {
   "display_name": "Python 3",
   "language": "python",
   "name": "python3"
  },
  "language_info": {
   "codemirror_mode": {
    "name": "ipython",
    "version": 3
   },
   "file_extension": ".py",
   "mimetype": "text/x-python",
   "name": "python",
   "nbconvert_exporter": "python",
   "pygments_lexer": "ipython3",
   "version": "3.13.1"
  }
 },
 "nbformat": 4,
 "nbformat_minor": 2
}
